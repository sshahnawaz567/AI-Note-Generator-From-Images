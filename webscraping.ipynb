{
 "cells": [
  {
   "cell_type": "code",
   "execution_count": 4,
   "id": "4744e4ee",
   "metadata": {},
   "outputs": [],
   "source": [
    "from selenium import webdriver\n",
    "from selenium.webdriver.chrome.service import Service\n",
    "from webdriver_manager.chrome import ChromeDriverManager\n",
    "from bs4 import BeautifulSoup\n",
    "import requests, os, time\n",
    "\n",
    "def download_istock_images(query, max_images=30, folder='istock_images'):\n",
    "    os.makedirs(folder, exist_ok=True)\n",
    "    url = f\"https://www.istockphoto.com/search/2/image?phrase={query.replace(' ', '%20')}&alloweduse=availableforalluses&mediatype=photography&sort=best\"\n",
    "\n",
    "    # Setup headless Chrome browser\n",
    "    options = webdriver.ChromeOptions()\n",
    "    options.add_argument('--headless')\n",
    "    options.add_argument('--disable-gpu')\n",
    "    driver = webdriver.Chrome(service=Service(ChromeDriverManager().install()), options=options)\n",
    "\n",
    "    driver.get(url)\n",
    "    time.sleep(5)  # wait for page to load JS\n",
    "\n",
    "    soup = BeautifulSoup(driver.page_source, 'html.parser')\n",
    "    driver.quit()\n",
    "\n",
    "    img_tags = soup.find_all('img')\n",
    "    count = 0\n",
    "\n",
    "    for img in img_tags:\n",
    "        src = img.get('src')\n",
    "        if src and 'media.istockphoto.com' in src and count < max_images:\n",
    "            try:\n",
    "                img_data = requests.get(src).content\n",
    "                with open(f\"{folder}/{query.replace(' ', '_')}_{count}.jpg\", 'wb') as f:\n",
    "                    f.write(img_data)\n",
    "                print(f\"Downloaded image {count + 1}\")\n",
    "                count += 1\n",
    "                time.sleep(0.5)\n",
    "            except Exception as e:\n",
    "                print(f\"Error downloading image {count}: {e}\")\n",
    "\n",
    "    print(f\"Downloaded {count} images for query: {query}\")\n",
    "\n",
    "# Example\n"
   ]
  },
  {
   "cell_type": "code",
   "execution_count": 5,
   "id": "35fac96a",
   "metadata": {},
   "outputs": [
    {
     "name": "stdout",
     "output_type": "stream",
     "text": [
      "Downloaded image 1\n",
      "Downloaded image 2\n",
      "Downloaded image 3\n",
      "Downloaded image 4\n",
      "Downloaded image 5\n",
      "Downloaded image 6\n",
      "Downloaded image 7\n",
      "Downloaded image 8\n",
      "Downloaded image 9\n",
      "Downloaded image 10\n",
      "Downloaded 10 images for query: ajanta caves\n"
     ]
    }
   ],
   "source": [
    "download_istock_images(\"ajanta caves\", max_images=10)\n"
   ]
  },
  {
   "cell_type": "code",
   "execution_count": 2,
   "id": "3a6419d7",
   "metadata": {},
   "outputs": [
    {
     "name": "stdout",
     "output_type": "stream",
     "text": [
      "✅ All images renamed successfully!\n"
     ]
    }
   ],
   "source": [
    "import os\n",
    "\n",
    "# Path to your main images folder\n",
    "main_folder = r'C:\\Users\\Shahnawaz\\OneDrive\\Desktop\\Shanu College\\Tourist_landmarks\\indian_monuments\\Indian-monuments\\images\\test\\Hawa mahal'\n",
    "\n",
    "# Loop through each subfolder (landmark folder)\n",
    "for class_name in os.listdir(main_folder):\n",
    "    class_path = os.path.join(main_folder, class_name)\n",
    "\n",
    "    if os.path.isdir(class_path):\n",
    "        count = 1\n",
    "        for filename in os.listdir(class_path):\n",
    "            file_path = os.path.join(class_path, filename)\n",
    "\n",
    "            # Ensure it's an image file (e.g., .jpg, .jpeg, .png)\n",
    "            if filename.lower().endswith(('.jpg', '.jpeg', '.png')):\n",
    "                # Get file extension\n",
    "                ext = os.path.splitext(filename)[1]\n",
    "\n",
    "                # Create a new unique name for each image\n",
    "                new_name = f\"{class_name}_{str(count).zfill(4)}{ext}\"\n",
    "\n",
    "                new_path = os.path.join(class_path, new_name)\n",
    "\n",
    "                # Rename the image\n",
    "                os.rename(file_path, new_path)\n",
    "                count += 1\n",
    "\n",
    "print(\"✅ All images renamed successfully!\")\n"
   ]
  },
  {
   "cell_type": "code",
   "execution_count": 2,
   "id": "3364ce05",
   "metadata": {},
   "outputs": [
    {
     "name": "stdout",
     "output_type": "stream",
     "text": [
      "Folder: Ajanta Caves has 296 images.\n",
      "Folder: alai_darwaza has 258 images.\n",
      "Folder: alai_minar has 300 images.\n",
      "Folder: basilica_of_bom_jesus has 268 images.\n",
      "Folder: charminar has 300 images.\n",
      "Folder: Ellora Caves has 300 images.\n",
      "Folder: Fatehpur Sikri has 242 images.\n",
      "Folder: Gateway of India has 300 images.\n",
      "Folder: golden temple has 300 images.\n",
      "Folder: Hawa mahal has 300 images.\n",
      "Folder: iron_pillar has 300 images.\n",
      "Folder: jamali_kamali_tomb has 300 images.\n",
      "Folder: Khajuraho has 244 images.\n",
      "Folder: lotus_temple has 300 images.\n",
      "Folder: mysore_palace has 293 images.\n",
      "Folder: qutub_minar has 300 images.\n",
      "Folder: Sun Temple Konark has 300 images.\n",
      "Folder: tajmahal has 300 images.\n",
      "Folder: tanjavur temple has 300 images.\n",
      "Folder: victoria memorial has 300 images.\n"
     ]
    }
   ],
   "source": [
    "import os\n",
    "\n",
    "# Path to the training data directory\n",
    "train_dir = r'C:\\Users\\Shahnawaz\\OneDrive\\Desktop\\Shanu College\\Tourist_landmarks\\indian_monuments\\Indian-monuments\\images\\train'\n",
    "\n",
    "# Loop through each folder in the training directory\n",
    "for class_folder in os.listdir(train_dir):\n",
    "    folder_path = os.path.join(train_dir, class_folder)\n",
    "    \n",
    "    # Check if it's a directory (in case there are other files)\n",
    "    if os.path.isdir(folder_path):\n",
    "        num_images = len(os.listdir(folder_path))  # Count the number of images in the folder\n",
    "        print(f\"Folder: {class_folder} has {num_images} images.\")\n"
   ]
  },
  {
   "cell_type": "code",
   "execution_count": 10,
   "id": "f1b799cf",
   "metadata": {},
   "outputs": [
    {
     "name": "stdout",
     "output_type": "stream",
     "text": [
      "Deleted 16 images from alai_minar, now it has 300 images.\n",
      "Deleted 113 images from charminar, now it has 300 images.\n",
      "Deleted 10 images from Ellora Caves, now it has 300 images.\n",
      "Deleted 130 images from Gateway of India, now it has 300 images.\n",
      "Deleted 109 images from golden temple, now it has 300 images.\n",
      "Deleted 101 images from hawa mahal pics, now it has 300 images.\n",
      "Deleted 152 images from iron_pillar, now it has 300 images.\n",
      "Deleted 62 images from qutub_minar, now it has 300 images.\n",
      "Deleted 59 images from Sun Temple Konark, now it has 300 images.\n",
      "Deleted 87 images from tajmahal, now it has 300 images.\n",
      "Deleted 43 images from tanjavur temple, now it has 300 images.\n",
      "Deleted 100 images from victoria memorial, now it has 300 images.\n"
     ]
    }
   ],
   "source": [
    "import os\n",
    "import random\n",
    "import shutil\n",
    "\n",
    "# Path to the training data directory\n",
    "train_dir = r'C:\\Users\\Shahnawaz\\OneDrive\\Desktop\\Shanu College\\Tourist_landmarks\\indian_monuments\\Indian-monuments\\images\\train'\n",
    "\n",
    "# Loop through each folder in the training directory\n",
    "for class_folder in os.listdir(train_dir):\n",
    "    folder_path = os.path.join(train_dir, class_folder)\n",
    "    \n",
    "    # Check if it's a directory (in case there are other files)\n",
    "    if os.path.isdir(folder_path):\n",
    "        images = os.listdir(folder_path)  # List all images in the folder\n",
    "        \n",
    "        if len(images) > 300:\n",
    "            # If the folder has more than 300 images, randomly select which images to delete\n",
    "            extra_images = images[300:]  # Get the extra images (more than 300)\n",
    "            \n",
    "            # Loop through the extra images and delete them\n",
    "            for img in extra_images:\n",
    "                img_path = os.path.join(folder_path, img)\n",
    "                if os.path.isfile(img_path):\n",
    "                    os.remove(img_path)  # Delete the image\n",
    "            print(f\"Deleted {len(extra_images)} images from {class_folder}, now it has 300 images.\")\n"
   ]
  },
  {
   "cell_type": "code",
   "execution_count": 2,
   "id": "4328490e",
   "metadata": {},
   "outputs": [
    {
     "name": "stdout",
     "output_type": "stream",
     "text": [
      "Copied 30 images from 'Ajanta Caves' to 'C:\\Users\\Shahnawaz\\OneDrive\\Desktop\\Shanu College\\Tourist_landmarks\\database\\Ajanta Caves'.\n",
      "Copied 30 images from 'alai_darwaza' to 'C:\\Users\\Shahnawaz\\OneDrive\\Desktop\\Shanu College\\Tourist_landmarks\\database\\alai_darwaza'.\n",
      "Copied 30 images from 'alai_minar' to 'C:\\Users\\Shahnawaz\\OneDrive\\Desktop\\Shanu College\\Tourist_landmarks\\database\\alai_minar'.\n",
      "Copied 30 images from 'basilica_of_bom_jesus' to 'C:\\Users\\Shahnawaz\\OneDrive\\Desktop\\Shanu College\\Tourist_landmarks\\database\\basilica_of_bom_jesus'.\n",
      "Copied 30 images from 'charminar' to 'C:\\Users\\Shahnawaz\\OneDrive\\Desktop\\Shanu College\\Tourist_landmarks\\database\\charminar'.\n",
      "Copied 30 images from 'Ellora Caves' to 'C:\\Users\\Shahnawaz\\OneDrive\\Desktop\\Shanu College\\Tourist_landmarks\\database\\Ellora Caves'.\n",
      "Copied 30 images from 'Fatehpur Sikri' to 'C:\\Users\\Shahnawaz\\OneDrive\\Desktop\\Shanu College\\Tourist_landmarks\\database\\Fatehpur Sikri'.\n",
      "Copied 30 images from 'Gateway of India' to 'C:\\Users\\Shahnawaz\\OneDrive\\Desktop\\Shanu College\\Tourist_landmarks\\database\\Gateway of India'.\n",
      "Copied 30 images from 'golden temple' to 'C:\\Users\\Shahnawaz\\OneDrive\\Desktop\\Shanu College\\Tourist_landmarks\\database\\golden temple'.\n",
      "Copied 30 images from 'Hawa mahal' to 'C:\\Users\\Shahnawaz\\OneDrive\\Desktop\\Shanu College\\Tourist_landmarks\\database\\Hawa mahal'.\n",
      "Copied 30 images from 'iron_pillar' to 'C:\\Users\\Shahnawaz\\OneDrive\\Desktop\\Shanu College\\Tourist_landmarks\\database\\iron_pillar'.\n",
      "Copied 30 images from 'jamali_kamali_tomb' to 'C:\\Users\\Shahnawaz\\OneDrive\\Desktop\\Shanu College\\Tourist_landmarks\\database\\jamali_kamali_tomb'.\n",
      "Copied 30 images from 'Khajuraho' to 'C:\\Users\\Shahnawaz\\OneDrive\\Desktop\\Shanu College\\Tourist_landmarks\\database\\Khajuraho'.\n",
      "Copied 30 images from 'lotus_temple' to 'C:\\Users\\Shahnawaz\\OneDrive\\Desktop\\Shanu College\\Tourist_landmarks\\database\\lotus_temple'.\n",
      "Copied 30 images from 'mysore_palace' to 'C:\\Users\\Shahnawaz\\OneDrive\\Desktop\\Shanu College\\Tourist_landmarks\\database\\mysore_palace'.\n",
      "Copied 30 images from 'qutub_minar' to 'C:\\Users\\Shahnawaz\\OneDrive\\Desktop\\Shanu College\\Tourist_landmarks\\database\\qutub_minar'.\n",
      "Copied 30 images from 'Sun Temple Konark' to 'C:\\Users\\Shahnawaz\\OneDrive\\Desktop\\Shanu College\\Tourist_landmarks\\database\\Sun Temple Konark'.\n",
      "Copied 30 images from 'tajmahal' to 'C:\\Users\\Shahnawaz\\OneDrive\\Desktop\\Shanu College\\Tourist_landmarks\\database\\tajmahal'.\n",
      "Copied 30 images from 'tanjavur temple' to 'C:\\Users\\Shahnawaz\\OneDrive\\Desktop\\Shanu College\\Tourist_landmarks\\database\\tanjavur temple'.\n",
      "Copied 30 images from 'victoria memorial' to 'C:\\Users\\Shahnawaz\\OneDrive\\Desktop\\Shanu College\\Tourist_landmarks\\database\\victoria memorial'.\n"
     ]
    }
   ],
   "source": [
    "import os\n",
    "import shutil\n",
    "import random\n",
    "\n",
    "def extract_top_images(source_dir, destination_dir, num_images=30):\n",
    "    \"\"\"\n",
    "    Extract top `num_images` from each folder in `source_dir` and save them into `destination_dir`.\n",
    "    \n",
    "    Parameters:\n",
    "    - source_dir: Directory containing folders of different places (Indian-monuments/train).\n",
    "    - destination_dir: Directory where selected images will be saved (database folder).\n",
    "    - num_images: Number of images to extract from each folder (default is 30).\n",
    "    \"\"\"\n",
    "    # Ensure destination directory exists\n",
    "    if not os.path.exists(destination_dir):\n",
    "        os.makedirs(destination_dir)\n",
    "\n",
    "    # Get a list of all subdirectories in source_dir\n",
    "    place_folders = [folder for folder in os.listdir(source_dir) if os.path.isdir(os.path.join(source_dir, folder))]\n",
    "\n",
    "    for place in place_folders:\n",
    "        place_folder_path = os.path.join(source_dir, place)\n",
    "        \n",
    "        # Get all images in the place folder (considering only image files like .jpg, .jpeg, .png)\n",
    "        images = [f for f in os.listdir(place_folder_path) if f.lower().endswith(('.jpg', '.jpeg', '.png'))]\n",
    "        \n",
    "        # Select top `num_images` (or less if there are fewer)\n",
    "        top_images = random.sample(images, min(num_images, len(images)))  # random.sample to avoid selecting same image\n",
    "        \n",
    "        # Ensure place-specific folder in destination directory exists\n",
    "        place_dest_folder = os.path.join(destination_dir, place)\n",
    "        if not os.path.exists(place_dest_folder):\n",
    "            os.makedirs(place_dest_folder)\n",
    "\n",
    "        # Copy selected images to the destination folder\n",
    "        for image in top_images:\n",
    "            image_source_path = os.path.join(place_folder_path, image)\n",
    "            image_dest_path = os.path.join(place_dest_folder, image)\n",
    "            \n",
    "            # Copy the image to the new folder\n",
    "            shutil.copy(image_source_path, image_dest_path)\n",
    "        \n",
    "        print(f\"Copied {len(top_images)} images from '{place}' to '{place_dest_folder}'.\")\n",
    "\n",
    "# Define source directory (Indian-monuments/train) and destination directory (database folder)\n",
    "source_dir = r\"C:\\Users\\Shahnawaz\\OneDrive\\Desktop\\Shanu College\\Tourist_landmarks\\data\\Indian-monuments\\images\\train\"\n",
    "destination_dir = r\"C:\\Users\\Shahnawaz\\OneDrive\\Desktop\\Shanu College\\Tourist_landmarks\\database\"\n",
    "\n",
    "# Call the function\n",
    "extract_top_images(source_dir, destination_dir)\n"
   ]
  },
  {
   "cell_type": "code",
   "execution_count": null,
   "id": "a9f61c16",
   "metadata": {},
   "outputs": [],
   "source": []
  }
 ],
 "metadata": {
  "kernelspec": {
   "display_name": "chatbot",
   "language": "python",
   "name": "python3"
  },
  "language_info": {
   "codemirror_mode": {
    "name": "ipython",
    "version": 3
   },
   "file_extension": ".py",
   "mimetype": "text/x-python",
   "name": "python",
   "nbconvert_exporter": "python",
   "pygments_lexer": "ipython3",
   "version": "3.10.15"
  }
 },
 "nbformat": 4,
 "nbformat_minor": 5
}
